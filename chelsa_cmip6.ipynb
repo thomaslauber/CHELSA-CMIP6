{
 "cells": [
  {
   "cell_type": "markdown",
   "metadata": {
    "cell_id": "ddb9089b87a748768dcfe845718bb2c4",
    "deepnote_app_coordinates": {
     "h": 5,
     "w": 12,
     "x": 0,
     "y": 0
    },
    "deepnote_cell_type": "text-cell-h1",
    "formattedRanges": [],
    "id": "T4KoUJd_KlJo"
   },
   "source": [
    "# CHELSA-CMIP6"
   ]
  },
  {
   "cell_type": "markdown",
   "metadata": {
    "cell_id": "5d281bcecb9f45ada6a42ce89af1cebe",
    "deepnote_app_coordinates": {
     "h": 2,
     "w": 8,
     "x": 0,
     "y": 0
    },
    "deepnote_cell_type": "text-cell-p",
    "formattedRanges": [
     {
      "fromCodePoint": 58,
      "ranges": [],
      "toCodePoint": 78,
      "type": "link",
      "url": "https://doi.org/10.1111/ecog.06535"
     }
    ],
    "id": "h08tuNCNKlJr"
   },
   "source": [
    "This notebook should facilitate the access and use of the CHELSA-CMIP6 package. It allows to check the model combinations that can be used to create bioclimatic variables with the CHELSA-CMIP6 package, as many CMIP6 models do not provide input data for all SPP scenarios. Furthermore, this notebook allows users to run the package in their browser and to generate bioclimatic variables for their region of interest. It is part of the News and Views piece \"Improving access and use of climate projections for ecological research\" in Ecography."
   ]
  },
  {
   "cell_type": "markdown",
   "metadata": {
    "cell_id": "722a303ae9744a8288421d189d810286",
    "deepnote_app_coordinates": {
     "h": 2,
     "w": 8,
     "x": 0,
     "y": 0
    },
    "deepnote_cell_type": "text-cell-p",
    "formattedRanges": [
     {
      "fromCodePoint": 0,
      "marks": {
       "bold": true
      },
      "toCodePoint": 10,
      "type": "marks"
     }
    ],
    "id": "ucBzQKhQKlJs"
   },
   "source": [
    "Reference: Karger, D. N., Chauvier, Y., & Zimmermann, N. E. (2023). chelsa‐cmip6 1.0: a python package to create high resolution bioclimatic variables based on CHELSA ver. 2.1 and CMIP6 data. Ecography, e06535."
   ]
  },
  {
   "cell_type": "markdown",
   "metadata": {
    "cell_id": "154df10cf9a5456b87b57f35068a79fb",
    "deepnote_app_coordinates": {
     "h": 5,
     "w": 12,
     "x": 0,
     "y": 0
    },
    "deepnote_cell_type": "text-cell-h2",
    "formattedRanges": [],
    "id": "GugGF1eMKlJs"
   },
   "source": [
    "## 1. Check requirements"
   ]
  },
  {
   "cell_type": "markdown",
   "metadata": {
    "cell_id": "11cf764f57334054b41bf3e0eb4dd42a",
    "deepnote_app_coordinates": {
     "h": 2,
     "w": 8,
     "x": 0,
     "y": 0
    },
    "deepnote_cell_type": "text-cell-p",
    "formattedRanges": [],
    "id": "qC1KjE0wKlJs"
   },
   "source": [
    "Check that all necessary input data is provided by CMIP6. The tool will only work if both historical and future experiments are available for all four variables:"
   ]
  },
  {
   "cell_type": "markdown",
   "metadata": {
    "cell_id": "5727be2a79934d4aa0ecd2aaf18babe7",
    "deepnote_app_coordinates": {
     "h": 2,
     "w": 8,
     "x": 0,
     "y": 0
    },
    "deepnote_cell_type": "text-cell-bullet",
    "formattedRanges": [],
    "id": "ERDfnghhKlJt"
   },
   "source": [
    "- pr (precipitation rate)"
   ]
  },
  {
   "cell_type": "markdown",
   "metadata": {
    "cell_id": "433186d155644b0d9634411c4ba0a206",
    "deepnote_app_coordinates": {
     "h": 2,
     "w": 8,
     "x": 0,
     "y": 0
    },
    "deepnote_cell_type": "text-cell-bullet",
    "formattedRanges": [],
    "id": "zYcCa0UAKlJt"
   },
   "source": [
    "- tas (mean daily 2 m air temperature)"
   ]
  },
  {
   "cell_type": "markdown",
   "metadata": {
    "cell_id": "db97d4c4304c4bdab413902bc1d8cb5a",
    "deepnote_app_coordinates": {
     "h": 2,
     "w": 8,
     "x": 0,
     "y": 0
    },
    "deepnote_cell_type": "text-cell-bullet",
    "formattedRanges": [],
    "id": "xqPikL1vKlJt"
   },
   "source": [
    "- tasmax (maximum daily 2 m air temperature)"
   ]
  },
  {
   "cell_type": "markdown",
   "metadata": {
    "cell_id": "de750ab7113741d39d87c21918b76a32",
    "deepnote_app_coordinates": {
     "h": 2,
     "w": 8,
     "x": 0,
     "y": 0
    },
    "deepnote_cell_type": "text-cell-bullet",
    "formattedRanges": [],
    "id": "8B9OYo_EKlJt"
   },
   "source": [
    "- tasmin (minimum daily 2 m air temperature)"
   ]
  },
  {
   "cell_type": "markdown",
   "metadata": {
    "cell_id": "92506641607a4ba29efc017caa4968a6",
    "deepnote_app_coordinates": {
     "h": 2,
     "w": 8,
     "x": 0,
     "y": 0
    },
    "deepnote_cell_type": "text-cell-p",
    "formattedRanges": [],
    "id": "gvqWxLD3KlJt"
   },
   "source": [
    "Here, you can enter the SSP scenarios of interest. Run the following code block to see which models provide the necessary variables for all the scenarios of interest."
   ]
  },
  {
   "cell_type": "code",
   "execution_count": null,
   "metadata": {},
   "outputs": [],
   "source": [
    "!pip install -r requirements.txt"
   ]
  },
  {
   "cell_type": "code",
   "execution_count": null,
   "metadata": {
    "cell_id": "e37280c2b47044d1b22954ccdb2bdc23",
    "colab": {
     "base_uri": "https://localhost:8080/",
     "height": 357
    },
    "deepnote_app_coordinates": {
     "h": 5,
     "w": 12,
     "x": 0,
     "y": 0
    },
    "deepnote_cell_type": "code",
    "deepnote_table_loading": false,
    "deepnote_table_state": {
     "filters": [],
     "pageIndex": 0,
     "pageSize": 100,
     "sortBy": []
    },
    "deepnote_to_be_reexecuted": false,
    "execution_millis": 2910,
    "execution_start": 1698141119865,
    "id": "5JyzXT3cKlJu",
    "outputId": "df2dc2fb-2ee0-4263-9837-6ed829aece2e",
    "output_cleared": false,
    "source_hash": null
   },
   "outputs": [],
   "source": [
    "from modules import *\n",
    "scenarios = ['ssp126','ssp245','ssp370','ssp585']\n",
    "check_requirements(scenarios)"
   ]
  },
  {
   "cell_type": "markdown",
   "metadata": {
    "cell_id": "e2499b4333b54db9845cad1d063db20f",
    "deepnote_app_coordinates": {
     "h": 5,
     "w": 12,
     "x": 0,
     "y": 0
    },
    "deepnote_cell_type": "text-cell-h2",
    "formattedRanges": [],
    "id": "HOhb8z_fKlJx"
   },
   "source": [
    "## 2. Create bioclimatic variables"
   ]
  },
  {
   "cell_type": "markdown",
   "metadata": {
    "cell_id": "a10990690d2c40ada7e43608960913b3",
    "deepnote_app_coordinates": {
     "h": 2,
     "w": 8,
     "x": 0,
     "y": 0
    },
    "deepnote_cell_type": "text-cell-p",
    "formattedRanges": [
     {
      "fromCodePoint": 263,
      "marks": {
       "code": true
      },
      "toCodePoint": 269,
      "type": "marks"
     }
    ],
    "id": "-9yi-JIRKlJy"
   },
   "source": [
    "You can use this notebook to create bioclimatic variables with the CHELSA-CMIP6 package for a smaller region. You can decide on a model member from above, a future time period and a region of interest. The bioclimatic variables will be generated and put into the output folder of this notebook. The output is by default in NetCDF format, if you want to create GeoTiffs use the code below to reformat the output."
   ]
  },
  {
   "cell_type": "markdown",
   "metadata": {
    "cell_id": "856565edb66c4f22b5d026458a5b6810",
    "deepnote_app_coordinates": {
     "h": 5,
     "w": 12,
     "x": 0,
     "y": 0
    },
    "deepnote_cell_type": "text-cell-h3",
    "formattedRanges": [],
    "id": "1mvcVm_SKlJy"
   },
   "source": [
    "### Model members"
   ]
  },
  {
   "cell_type": "markdown",
   "metadata": {
    "cell_id": "4f93c1dd802243ff84fc6e485e0cfad5",
    "deepnote_app_coordinates": {
     "h": 2,
     "w": 8,
     "x": 0,
     "y": 0
    },
    "deepnote_cell_type": "text-cell-p",
    "formattedRanges": [],
    "id": "lw5O1idyKlJy"
   },
   "source": [
    "Define the models and members of interest."
   ]
  },
  {
   "cell_type": "markdown",
   "metadata": {},
   "source": []
  },
  {
   "cell_type": "code",
   "execution_count": null,
   "metadata": {
    "cell_id": "1844074a48c9446580881a4192278d96",
    "deepnote_app_coordinates": {
     "h": 5,
     "w": 12,
     "x": 0,
     "y": 0
    },
    "deepnote_cell_type": "code",
    "deepnote_to_be_reexecuted": false,
    "execution_millis": 145,
    "execution_start": 1698140092022,
    "id": "G3CF5Ne7KlJy",
    "source_hash": null
   },
   "outputs": [],
   "source": [
    "model = 'MPI-ESM1-2-LR'\n",
    "member = 'r1i1p1f1'\n",
    "model_members = [(model, member)]"
   ]
  },
  {
   "cell_type": "markdown",
   "metadata": {
    "cell_id": "bacd65771571484d86b66657be2beb66",
    "deepnote_app_coordinates": {
     "h": 2,
     "w": 8,
     "x": 0,
     "y": 0
    },
    "deepnote_cell_type": "text-cell-p",
    "formattedRanges": [
     {
      "fromCodePoint": 79,
      "marks": {
       "code": true
      },
      "toCodePoint": 149,
      "type": "marks"
     }
    ],
    "id": "R4K8LgR7KlJy"
   },
   "source": [
    "You can also directly provide a list of tuples of the model combinations, e.g. model_members = [('MPI-ESM1-2-LR', 'r1i1p1f1'), ('CESM2', 'r4i1p1f1')]."
   ]
  },
  {
   "cell_type": "markdown",
   "metadata": {
    "cell_id": "9400c42bb428467abe27df58dd814c25",
    "deepnote_app_coordinates": {
     "h": 5,
     "w": 12,
     "x": 0,
     "y": 0
    },
    "deepnote_cell_type": "text-cell-h3",
    "formattedRanges": [],
    "id": "APrxnDiIKlJy"
   },
   "source": [
    "### Region"
   ]
  },
  {
   "cell_type": "markdown",
   "metadata": {
    "cell_id": "7c2213eefa9c45f4a1f49a1f0385491d",
    "deepnote_app_coordinates": {
     "h": 2,
     "w": 8,
     "x": 0,
     "y": 0
    },
    "deepnote_cell_type": "text-cell-p",
    "formattedRanges": [],
    "id": "_gZUxm1TKlJz"
   },
   "source": [
    "Define the region of interest and plot it."
   ]
  },
  {
   "cell_type": "code",
   "execution_count": null,
   "metadata": {
    "cell_id": "cf2891edd8d64f20bbbaff46c6378bdc",
    "deepnote_app_coordinates": {
     "h": 5,
     "w": 12,
     "x": 0,
     "y": 0
    },
    "deepnote_cell_type": "code",
    "deepnote_to_be_reexecuted": false,
    "execution_millis": 214,
    "execution_start": 1698140092023,
    "id": "ONg1dkq0KlJz",
    "outputId": "6d66f5f9-b6b0-4a2b-c898-cee3dcdf9334",
    "output_cleared": true,
    "source_hash": null
   },
   "outputs": [],
   "source": [
    "xmin = 6\n",
    "xmax = 10.5\n",
    "ymin = 45.5\n",
    "ymax = 48.0\n",
    "region = [xmin, xmax, ymin, ymax]\n",
    "plotRegion(region)"
   ]
  },
  {
   "cell_type": "markdown",
   "metadata": {
    "cell_id": "aae065934c0743089bd49f1fff69c859",
    "deepnote_app_coordinates": {
     "h": 5,
     "w": 12,
     "x": 0,
     "y": 0
    },
    "deepnote_cell_type": "text-cell-h3",
    "formattedRanges": [],
    "id": "j5LOqrPBKlJz"
   },
   "source": [
    "### Future period"
   ]
  },
  {
   "cell_type": "markdown",
   "metadata": {
    "cell_id": "24a9254081594f179b08b7c625e9b2c4",
    "deepnote_app_coordinates": {
     "h": 2,
     "w": 8,
     "x": 0,
     "y": 0
    },
    "deepnote_cell_type": "text-cell-p",
    "formattedRanges": [],
    "id": "V9n0tNr_KlJz"
   },
   "source": [
    "Define the future period of interest. Similarly to above you can provide a list of tuples instead."
   ]
  },
  {
   "cell_type": "code",
   "execution_count": null,
   "metadata": {
    "cell_id": "62e8cb350d7641be9ed3fa33f8af2173",
    "deepnote_app_coordinates": {
     "h": 5,
     "w": 12,
     "x": 0,
     "y": 0
    },
    "deepnote_cell_type": "code",
    "deepnote_to_be_reexecuted": false,
    "execution_millis": 177,
    "execution_start": 1698140092061,
    "id": "cip4QmpKKlJz",
    "source_hash": null
   },
   "outputs": [],
   "source": [
    "fefps = '2041-01-15'\n",
    "fefpe = '2070-12-15'\n",
    "fefp = [(fefps, fefpe)]"
   ]
  },
  {
   "cell_type": "markdown",
   "metadata": {
    "cell_id": "47719f9697254e24a7092bc087ac4959",
    "deepnote_app_coordinates": {
     "h": 5,
     "w": 12,
     "x": 0,
     "y": 0
    },
    "deepnote_cell_type": "text-cell-h3",
    "formattedRanges": [],
    "id": "USk6b7v7KlJz"
   },
   "source": [
    "### Download bioclimatic variables"
   ]
  },
  {
   "cell_type": "markdown",
   "metadata": {
    "cell_id": "840e3f64604743b89de36fe0db4ce873",
    "deepnote_app_coordinates": {
     "h": 2,
     "w": 8,
     "x": 0,
     "y": 0
    },
    "deepnote_cell_type": "text-cell-p",
    "formattedRanges": [],
    "id": "rdkLZvDzKlJz"
   },
   "source": [
    "Download the bioclimatic variables based on the scenarios defined earlier and the model members, future period and region as set above. This whole process might take a while."
   ]
  },
  {
   "cell_type": "code",
   "execution_count": null,
   "metadata": {
    "cell_id": "4ed216cb1f7741afbfdf5e1d647d10b8",
    "deepnote_app_coordinates": {
     "h": 5,
     "w": 12,
     "x": 0,
     "y": 0
    },
    "deepnote_app_is_code_hidden": false,
    "deepnote_cell_type": "code",
    "deepnote_to_be_reexecuted": false,
    "execution_millis": 2091,
    "execution_start": 1698140092098,
    "id": "CXrVTvDoKlJ0",
    "is_code_hidden": false,
    "outputId": "ad21c761-d4b4-475e-dcaf-5752a8cea227",
    "output_cleared": true,
    "source_hash": null
   },
   "outputs": [],
   "source": [
    "# This function will run chelsa_cmip6\n",
    "# The input parameters are given in {} and the original ones as defined in the original package in ():\n",
    "#\n",
    "# {model_members} a list of tuples defining the model (source_id) and the member (member_id)\n",
    "# {scenarios} a list of SSP scenarios (experiment_id)\n",
    "# {region} is a list of coordinates (xmin, xmax, ymin, ymax) defining the region to create the output for\n",
    "# {fefp} is a list of tuples defining the future periods (fefps and fefpe)\n",
    "# {refp} is a tuple defining the reference period (refps, refpe) - it defaults to '1981-01-15' - '2010-12-15'\n",
    "# {output_folder} is the output folder that will be created automatically and will host the generated output (output) - it defaults to 'output'\n",
    "run_chelsa_cmip6(model_members, scenarios, region, fefp, refp=('1981-01-15','2010-12-15'), output_folder='output')"
   ]
  },
  {
   "cell_type": "markdown",
   "metadata": {
    "cell_id": "a4f3cbc45aa04edba8c4d9978bd8f291",
    "deepnote_app_coordinates": {
     "h": 5,
     "w": 12,
     "x": 0,
     "y": 0
    },
    "deepnote_cell_type": "text-cell-h2",
    "formattedRanges": [],
    "id": "LIk-gv1rKlJ0"
   },
   "source": [
    "## 3. Convert NetCDF files to GeoTiff"
   ]
  },
  {
   "cell_type": "markdown",
   "metadata": {
    "cell_id": "0892d5113d294c3d9379ceddba1dfac8",
    "deepnote_app_coordinates": {
     "h": 2,
     "w": 8,
     "x": 0,
     "y": 0
    },
    "deepnote_cell_type": "text-cell-p",
    "formattedRanges": [],
    "id": "RlRBxAMoKlJ0"
   },
   "source": [
    "Convert the NetCDF files into GeoTiff if needed. This will delete the original NetCDF files in order to save storage space."
   ]
  },
  {
   "cell_type": "code",
   "execution_count": null,
   "metadata": {
    "cell_id": "4b88a2fdf2884a6085f6b20d1faf67b4",
    "deepnote_app_coordinates": {
     "h": 5,
     "w": 12,
     "x": 0,
     "y": 0
    },
    "deepnote_cell_type": "code",
    "deepnote_to_be_reexecuted": true,
    "execution_millis": 3878,
    "execution_start": 1698138951861,
    "id": "IWB0VddZKlJ0",
    "outputId": "b4e83fe0-4fb5-486b-c5e4-a1fe9ce324ea",
    "output_cleared": true,
    "source_hash": null
   },
   "outputs": [],
   "source": [
    "# {output_folder} is the output folder that hosts the generated output from above\n",
    "ncToTif(output_folder='output')"
   ]
  }
 ],
 "metadata": {
  "colab": {
   "provenance": []
  },
  "deepnote": {},
  "deepnote_app_comments_enabled": false,
  "deepnote_app_layout": "powerful-article",
  "deepnote_app_run_on_input_enabled": false,
  "deepnote_execution_queue": [],
  "deepnote_notebook_id": "f64dae7722e9453b91a3ae5b4a462124",
  "deepnote_persisted_session": {
   "createdAt": "2023-10-24T09:50:53.053Z"
  },
  "kernelspec": {
   "display_name": "python39",
   "language": "python",
   "name": "python39"
  },
  "language_info": {
   "codemirror_mode": {
    "name": "ipython",
    "version": 3
   },
   "file_extension": ".py",
   "mimetype": "text/x-python",
   "name": "python",
   "nbconvert_exporter": "python",
   "pygments_lexer": "ipython3",
   "version": "3.9.0"
  }
 },
 "nbformat": 4,
 "nbformat_minor": 4
}
